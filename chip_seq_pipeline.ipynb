{
 "cells": [
  {
   "cell_type": "code",
   "execution_count": 10,
   "metadata": {},
   "outputs": [],
   "source": [
    "import pandas as pd\n",
    "import subprocess\n",
    "import pysam\n",
    "import os"
   ]
  },
  {
   "cell_type": "markdown",
   "metadata": {},
   "source": [
    "# Chip-seq pipeline"
   ]
  },
  {
   "cell_type": "code",
   "execution_count": 102,
   "metadata": {},
   "outputs": [],
   "source": [
    "sample_name = \"GSM4087690\" #paired_one_run\n",
    "#sample_name = \"GSM1666208\" #single_one_run\n",
    "#sample_name = \"GSM4256992\" #paired_multiple_runs\n",
    "#sample_name = \"GSM4491173\" #single_multiple_runs\n"
   ]
  },
  {
   "cell_type": "code",
   "execution_count": 103,
   "metadata": {},
   "outputs": [],
   "source": [
    "n_threads = str(20)"
   ]
  },
  {
   "cell_type": "code",
   "execution_count": 104,
   "metadata": {},
   "outputs": [],
   "source": [
    "factor = \"H3K27ac\""
   ]
  },
  {
   "cell_type": "code",
   "execution_count": 105,
   "metadata": {},
   "outputs": [],
   "source": [
    "out_dir = \"results_paired_one_run\""
   ]
  },
  {
   "cell_type": "code",
   "execution_count": 106,
   "metadata": {},
   "outputs": [],
   "source": [
    "ref_path = \"./reference_data/\"\n",
    "fasta_folder = f\"./{out_dir}/fastq_files/\"\n",
    "fastqc_folder = f\"./{out_dir}/fastqc/\"\n",
    "genome_reference = \"./genome_reference/\"\n",
    "bowtie_results = f\"./{out_dir}/bowtie2/\"\n",
    "intermediate_bams = f\"./{out_dir}/bowtie2/intermediate_bams/\"\n",
    "qualimap_folder = f\"./{out_dir}/qualimap/\"\n",
    "macs2_out = f\"./{out_dir}/macs2_out/\""
   ]
  },
  {
   "cell_type": "code",
   "execution_count": 107,
   "metadata": {},
   "outputs": [
    {
     "data": {
      "text/plain": [
       "0"
      ]
     },
     "execution_count": 107,
     "metadata": {},
     "output_type": "execute_result"
    }
   ],
   "source": [
    "subprocess.call(\" \".join([\"mkdir\", \"-p\", fasta_folder]), shell=True)\n",
    "subprocess.call(\" \".join([\"mkdir\", \"-p\", fastqc_folder]), shell=True)\n",
    "subprocess.call(\" \".join([\"mkdir\", \"-p\", intermediate_bams]), shell=True)"
   ]
  },
  {
   "cell_type": "code",
   "execution_count": 108,
   "metadata": {},
   "outputs": [],
   "source": [
    "align_sam = f\"./{out_dir}/bowtie2/{sample_name}_m_unsorted.sam\"\n",
    "align_bam = f\"./{out_dir}/bowtie2/{sample_name}_m_unsorted.bam\"\n",
    "align_n_sorted = f\"./{out_dir}/bowtie2/{sample_name}_m_name_sorted.bam\"\n",
    "align_fixmate = f\"./{out_dir}/bowtie2/{sample_name}_m_fixmate_sorted.bam\"\n",
    "align_filtered = f\"./{out_dir}/bowtie2/{sample_name}_m_filtered_sorted.bam\"\n",
    "align_sorted = f\"./{out_dir}/bowtie2/{sample_name}_sorted.bam\""
   ]
  },
  {
   "cell_type": "code",
   "execution_count": 109,
   "metadata": {},
   "outputs": [],
   "source": [
    "info_query = [\"esearch\", \"-db\", \"sra\", \"-query\", sample_name, \"|\", \"efetch\", \"-format\", \"runinfo\"]"
   ]
  },
  {
   "cell_type": "code",
   "execution_count": 110,
   "metadata": {},
   "outputs": [],
   "source": [
    "broad = [\"H3F3A\", \"H3K27ME3\", \"H3K36ME3\", \"H3K4ME1\", \"H3K79ME2\", \"H3K79ME3\", \"H3K9ME1\", \"H3K9ME2\" , \"H4K20ME1\"]"
   ]
  },
  {
   "cell_type": "code",
   "execution_count": 112,
   "metadata": {},
   "outputs": [],
   "source": [
    "proc = subprocess.Popen(\" \".join(info_query), shell=True, stdout=subprocess.PIPE)\n",
    "serviceList  = proc.communicate()[0].decode('utf-8')"
   ]
  },
  {
   "cell_type": "code",
   "execution_count": 113,
   "metadata": {},
   "outputs": [],
   "source": [
    "factor_type = \"--broad\" if factor.upper() in broad else \"\""
   ]
  },
  {
   "cell_type": "code",
   "execution_count": 114,
   "metadata": {},
   "outputs": [],
   "source": [
    "file_meta = open(f\"./{out_dir}/\"+ sample_name +\".meta\", \"w\")\n",
    "srr_id=[]\n",
    "values = serviceList.rstrip().split('\\n')\n",
    "for runs in range(1, len(values)):\n",
    "    for attributes in range(0, len(values[0].split(\",\"))):\n",
    "        #print(str(values[0].split(\",\")[attributes]) + '\\t' + str(values[runs].split(\",\")[attributes]))\n",
    "        file_meta.write(str(values[0].split(\",\")[attributes]) + '\\t' + str(values[runs].split(\",\")[attributes]) + \"\\n\")\n",
    "        if values[0].split(\",\")[attributes] == 'Run':\n",
    "            srr_id.append(values[runs].split(\",\")[attributes])       \n",
    "        if values[0].split(\",\")[attributes] == \"LibraryLayout\":\n",
    "            layout = values[1].split(\",\")[attributes]\n",
    "        if values[0].split(\",\")[attributes] == \"ScientificName\":\n",
    "            organism = values[1].split(\",\")[attributes]\n",
    "file_meta.close()"
   ]
  },
  {
   "cell_type": "code",
   "execution_count": 115,
   "metadata": {},
   "outputs": [],
   "source": [
    "if organism.upper() == 'HOMO SAPIENS':\n",
    "    ref = \"hg38\" \n",
    "else: \n",
    "    ref = \"mm10\""
   ]
  },
  {
   "cell_type": "code",
   "execution_count": 116,
   "metadata": {},
   "outputs": [],
   "source": [
    "if layout.upper() == 'SINGLE':\n",
    "    print(\"LAYOUT: SINGLE\")\n",
    "    fastq_name = fasta_folder + sample_name + \".fastq\"\n",
    "    \n",
    "    for srr in srr_id:\n",
    "        download_query = \" \".join([\"parallel-fastq-dump\", \"--sra-id\", srr, \"--threads\", n_threads, \"--outdir\", fasta_folder])\n",
    "        subprocess.call(download_query, shell=True)        \n",
    "    \n",
    "    merge_files = \" \".join([\"cat\", fasta_folder + \"*.fastq\", \">\",  fastq_name])\n",
    "    subprocess.call(merge_files, shell=True) \n",
    "\n",
    "    fastqc_query = \" \".join([\"fastqc\", fastq_name, \"--extract\"])\n",
    "    subprocess.call(fastqc_query, shell=True)\n",
    "\n",
    "    mv_fastqc_query = \" \".join(['mv', fasta_folder + '*_fastqc*', fastqc_folder])\n",
    "    subprocess.call(mv_fastqc_query, shell=True)\n",
    "\n",
    "    fastqc_df = pd.read_csv(fastqc_folder + sample_name + \"_fastqc/fastqc_data.txt\", nrows=10, sep=\"\\t\")\n",
    "    encoding = str(fastqc_df[fastqc_df[\"##FastQC\"]==\"Encoding\"].iloc[:, 1]).split(\"\\n\")[0].split(\"  \")[-1]\n",
    "    quality = \"\" if \"Sanger\" in encoding else \"--phred64\"\n",
    "\n",
    "    bowtie2 = \" \".join(['bowtie2', '-p', n_threads, quality, '-q', '-D', '20', '-R', '3', '-N', '1', '-L', '20', '-x', ref_path + ref, '-U', fastq_name, '-S', align_sam, '2> ./' + out_dir + '/log_file_test.txt'])\n",
    "    subprocess.call(bowtie2, shell=True)\n",
    "\n",
    "    drop_srr = \" \".join([\"rm\", fasta_folder + \"*SRR*\"]) \n",
    "    subprocess.call(drop_srr, shell=True)\n",
    "\n",
    "    bam_conversion = \" \".join([\"samtools\", \"view\", \"-h\", \"-S\", \"-b\", \"-@\", n_threads, \"-o\", align_bam, align_sam])\n",
    "    subprocess.call(bam_conversion, shell=True)\n",
    "\n",
    "    bam_name_sorting = \" \".join([\"samtools\", \"sort\", \"-n\", \"-@\", n_threads, \"-o\", align_n_sorted, align_bam])\n",
    "    subprocess.call(bam_name_sorting, shell=True)\n",
    "\n",
    "    fixmate = \" \".join([\"samtools\", \"fixmate\", \"-@\", n_threads, align_n_sorted, align_fixmate])\n",
    "    subprocess.call(fixmate, shell=True)\n",
    "\n",
    "    bam_sorting = \" \".join([\"samtools\", \"sort\", \"-@\", n_threads, \"-o\", align_sorted, align_fixmate])\n",
    "    subprocess.call(bam_sorting, shell=True)\n",
    "    \n",
    "    filtered = \" \".join([\"samtools\", \"markdup\",\"-r\", \"-@\", n_threads, align_sorted, align_filtered])\n",
    "    subprocess.call(filtered, shell=True)\n",
    "\n",
    "    index_creation  = \" \".join([\"samtools\", \"index\", \"-@\", n_threads, align_sorted])\n",
    "    subprocess.call(index_creation, shell=True)\n",
    "\n",
    "    move_intermediate  = \" \".join([\"mv\", bowtie_results + \"*_m_*\", intermediate_bams])\n",
    "    subprocess.call(move_intermediate, shell=True)\n",
    "\n",
    "    qualimap = \" \".join([\"qualimap\", \"bamqc\", \"-c\", \"-nt\", n_threads, \"-sdmode 2\", \"--java-mem-size=4G\", \"-bam\", align_sorted, \"-outdir\", qualimap_folder])\n",
    "    subprocess.call(qualimap, shell=True)\n",
    "\n",
    "    macs2 = \" \".join([\"macs2\", \"callpeak\", \"-q\", \"0.01\", \"--keep-dup 1\", \"--extsize=150\", \"--nomodel\", \"-f\", \"BAM\", \"-g\", \"2.9e+9\", factor_type, \"-t\", align_sorted, \"-n\", sample_name, \"--outdir\", macs2_out])\n",
    "    subprocess.call(macs2, shell=True)\n",
    "    \n",
    "if layout.upper() == 'PAIRED':\n",
    "    print(\"LAYOUT: PAIRED\")\n",
    "    fastq_1 = fasta_folder + sample_name + \"_1\" + \".fastq\"\n",
    "    fastq_2 = fasta_folder + sample_name + \"_2\" + \".fastq\"\n",
    "    for srr in srr_id:\n",
    "        download_query = [\"parallel-fastq-dump\", \"-F\", \"--split-files\", \"--sra-id\", srr, \"--threads\", n_threads, \"--outdir\", fasta_folder]\n",
    "        subprocess.call(\" \".join(download_query), shell=True)\n",
    "\n",
    "    r1 = \" \".join([\"cat\", fasta_folder + \"*_1.fastq\", \">\",  fastq_1])\n",
    "    subprocess.call(r1, shell=True) \n",
    "\n",
    "    r2 = \" \".join([\"cat\", fasta_folder + \"*_2.fastq\", \">\",  fastq_2])\n",
    "    subprocess.call(r2, shell=True)\n",
    "\n",
    "    fastqc_query = \" \".join([\"fastqc\", fasta_folder + \"*GSM*\", \"--extract\"])\n",
    "    subprocess.call(fastqc_query, shell=True)\n",
    "\n",
    "    mv_fastqc_query = \" \".join(['mv', fasta_folder + '*_fastqc*', fastqc_folder])\n",
    "    subprocess.call(mv_fastqc_query, shell=True)\n",
    "\n",
    "    fastqc_df = pd.read_csv(fastqc_folder + sample_name + \"_1_fastqc/fastqc_data.txt\", nrows=10, sep=\"\\t\")\n",
    "    encoding = str(fastqc_df[fastqc_df[\"##FastQC\"]==\"Encoding\"].iloc[:, 1]).split(\"\\n\")[0].split(\"  \")[-1]\n",
    "    quality = \"\" if \"Sanger\" in encoding else \"--phred64\"\n",
    "\n",
    "    bowtie2 = \" \".join(['bowtie2', '-p', n_threads, quality, '-q', '-D', '20', '-R', '3', '-N', '1', '-L', '20', '-x', ref_path + ref, '-1', fastq_1, '-2', fastq_2, '-S', align_sam, '2> ./' + out_dir + '/log_file_test.txt'])\n",
    "    subprocess.call(bowtie2, shell=True)\n",
    "\n",
    "    drop_srr = \" \".join([\"rm\", fasta_folder + \"*SRR*\"]) \n",
    "    subprocess.call(drop_srr, shell=True)\n",
    "\n",
    "    bam_conversion = \" \".join([\"samtools\", \"view\", \"-h\", \"-S\", \"-b\", \"-@\", n_threads, \"-o\", align_bam, align_sam])\n",
    "    subprocess.call(bam_conversion, shell=True)\n",
    "\n",
    "    fixmate = \" \".join([\"samtools\", \"fixmate\", \"-@\", n_threads, \"-m\", align_bam, align_fixmate])\n",
    "    subprocess.call(fixmate, shell=True)\n",
    "\n",
    "    bam_sorting = \" \".join([\"samtools\", \"sort\", \"-@\", n_threads, \"-o\", align_sorted, align_fixmate])\n",
    "    subprocess.call(bam_sorting, shell=True)\n",
    "\n",
    "    filtered = \" \".join([\"samtools\", \"markdup\",\"-r\", \"-@\", n_threads, \"-s\", align_sorted, align_filtered])\n",
    "    subprocess.call(filtered, shell=True)\n",
    "\n",
    "    index_creation  = \" \".join([\"samtools\", \"index\", \"-@\", n_threads, align_sorted])\n",
    "    subprocess.call(index_creation, shell=True)\n",
    "\n",
    "    move_intermediate  = \" \".join([\"mv\", bowtie_results + \"*_m_*\", intermediate_bams])\n",
    "    subprocess.call(move_intermediate, shell=True)\n",
    "\n",
    "    qualimap = \" \".join([\"qualimap\", \"bamqc\", \"-nt\", n_threads, \"-sdmode 2\", \"--java-mem-size=4G\", \"-ip\", \"-bam\", align_sorted, \"-outdir\", qualimap_folder])\n",
    "    subprocess.call(qualimap, shell=True)\n",
    "\n",
    "    macs2 = \" \".join([\"macs2\", \"callpeak\", \"-q\", \"0.01\",\"-c\", \"--keep-dup 1\", \"--extsize=150\", \"--nomodel\", \"-f\", \"BAMPE\", \"-g\", \"2.9e+9\", factor_type, \"-t\", align_sorted, \"-n\", sample_name, \"--outdir\", macs2_out])\n",
    "    subprocess.call(macs2, shell=True)\n",
    "\n",
    "\n",
    "bed_file_type = \"broad\" if factor_type.split(\"-\")[-1] == 'broad' else \"narrow\"\n",
    "bed_file = macs2_out + sample_name + \"_peaks.\" + bed_file_type +  \"Peak\"\n",
    "\n",
    "blacklisted = \" \".join([\"bedtools\", \"intersect\", \"-v\", \"-a\", bed_file, \"-b\", genome_reference + \"hg38-blacklist.v2.bed\", \">\", bed_file + \"_unblacked.bed\"])\n",
    "subprocess.call(blacklisted, shell=True)"
   ]
  },
  {
   "cell_type": "markdown",
   "metadata": {},
   "source": [
    "# PCR bottleneck coefficient (PBC) & Non-Redundant Fraction (NRF)"
   ]
  },
  {
   "cell_type": "code",
   "execution_count": 146,
   "metadata": {},
   "outputs": [],
   "source": [
    "sam = intermediate_bams + align_bam.split(\"bowtie2/\")[-1]"
   ]
  },
  {
   "cell_type": "code",
   "execution_count": 147,
   "metadata": {},
   "outputs": [],
   "source": [
    "inputfile = pysam.AlignmentFile(sam, \"rb\")\n",
    "lines = []\n",
    "for line in inputfile:\n",
    "    string = str(line.reference_name) + \"_\" + str(line.reference_start) + \"_\" + str(line.reference_end)\n",
    "    lines.append(string)"
   ]
  },
  {
   "cell_type": "code",
   "execution_count": 148,
   "metadata": {
    "scrolled": true
   },
   "outputs": [],
   "source": [
    "df = pd.DataFrame({'col':lines})"
   ]
  },
  {
   "cell_type": "code",
   "execution_count": 149,
   "metadata": {},
   "outputs": [],
   "source": [
    "total_reads = df.shape[0]"
   ]
  },
  {
   "cell_type": "code",
   "execution_count": 150,
   "metadata": {},
   "outputs": [],
   "source": [
    "distinct_uniquely_mapping_reads = df.drop_duplicates().shape[0]"
   ]
  },
  {
   "cell_type": "code",
   "execution_count": 151,
   "metadata": {},
   "outputs": [],
   "source": [
    "df_2 = df['col'].value_counts().to_frame('counts').reset_index()"
   ]
  },
  {
   "cell_type": "code",
   "execution_count": 152,
   "metadata": {},
   "outputs": [],
   "source": [
    "N_dist = df_2.shape[0]"
   ]
  },
  {
   "cell_type": "code",
   "execution_count": 153,
   "metadata": {},
   "outputs": [],
   "source": [
    "N1 = df_2[df_2['counts'] == 1].shape[0]"
   ]
  },
  {
   "cell_type": "code",
   "execution_count": 154,
   "metadata": {},
   "outputs": [],
   "source": [
    "N2 = df_2[df_2['counts'] == 2].shape[0]"
   ]
  },
  {
   "cell_type": "code",
   "execution_count": 155,
   "metadata": {},
   "outputs": [
    {
     "name": "stdout",
     "output_type": "stream",
     "text": [
      "NFR: 0.83\n"
     ]
    }
   ],
   "source": [
    "print(\"NFR: \" + str(round(distinct_uniquely_mapping_reads/total_reads, 2)))"
   ]
  },
  {
   "cell_type": "code",
   "execution_count": 156,
   "metadata": {},
   "outputs": [
    {
     "name": "stdout",
     "output_type": "stream",
     "text": [
      "PBC1: 0.85\n"
     ]
    }
   ],
   "source": [
    "print(\"PBC1: \" + str(round(N1/N_dist, 2)))"
   ]
  },
  {
   "cell_type": "code",
   "execution_count": 157,
   "metadata": {},
   "outputs": [
    {
     "name": "stdout",
     "output_type": "stream",
     "text": [
      "PBC2: 7.67\n"
     ]
    }
   ],
   "source": [
    "print(\"PBC2: \" + str(round(N1/N2, 2)))"
   ]
  },
  {
   "cell_type": "markdown",
   "metadata": {},
   "source": [
    "# Frip Score (fraction of reads in peaks)"
   ]
  },
  {
   "cell_type": "code",
   "execution_count": 165,
   "metadata": {},
   "outputs": [
    {
     "name": "stdout",
     "output_type": "stream",
     "text": [
      "Frip score: 46.25%\n"
     ]
    }
   ],
   "source": [
    "import deeptools.countReadsPerBin as crb\n",
    "import pysam\n",
    "\n",
    "bam_file = align_sorted\n",
    "bed_file_type = \"broad\" if factor_type.split(\"-\")[-1] == 'broad' else \"narrow\"\n",
    "bed_file = macs2_out + sample_name + \"_peaks.\" + bed_file_type +  \"Peak\"\n",
    "\n",
    "cr = crb.CountReadsPerBin([bam_file], bedFile=bed_file, numberOfProcessors=int(n_threads))\n",
    "reads_at_peaks = cr.run()\n",
    "\n",
    "total = reads_at_peaks.sum(axis=0)\n",
    "bam = pysam.AlignmentFile(bam_file)\n",
    "\n",
    "frip_score = round((float(total[0]) / bam.mapped) * 100, 2) \n",
    "print(\"Frip score: \" + str(frip_score) + \"%\")"
   ]
  },
  {
   "cell_type": "code",
   "execution_count": null,
   "metadata": {},
   "outputs": [],
   "source": []
  }
 ],
 "metadata": {
  "kernelspec": {
   "display_name": "Python 3",
   "language": "python",
   "name": "python3"
  },
  "language_info": {
   "codemirror_mode": {
    "name": "ipython",
    "version": 3
   },
   "file_extension": ".py",
   "mimetype": "text/x-python",
   "name": "python",
   "nbconvert_exporter": "python",
   "pygments_lexer": "ipython3",
   "version": "3.7.6"
  }
 },
 "nbformat": 4,
 "nbformat_minor": 2
}
